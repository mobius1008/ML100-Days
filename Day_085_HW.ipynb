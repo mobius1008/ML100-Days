{
 "cells": [
  {
   "cell_type": "markdown",
   "metadata": {},
   "source": [
    "## Work\n",
    "1. 試改變 monitor \"Validation Accuracy\" 並比較結果\n",
    "2. 調整 earlystop 的等待次數至 10, 25 並比較結果"
   ]
  },
  {
   "cell_type": "code",
   "execution_count": 1,
   "metadata": {},
   "outputs": [
    {
     "name": "stderr",
     "output_type": "stream",
     "text": [
      "C:\\ProgramData\\Anaconda3\\envs\\tensorflow_cpu\\lib\\site-packages\\h5py\\__init__.py:36: FutureWarning: Conversion of the second argument of issubdtype from `float` to `np.floating` is deprecated. In future, it will be treated as `np.float64 == np.dtype(float).type`.\n",
      "  from ._conv import register_converters as _register_converters\n",
      "Using TensorFlow backend.\n"
     ]
    }
   ],
   "source": [
    "import os\n",
    "import keras\n",
    "import matplotlib.pyplot as plt\n",
    "%matplotlib inline\n",
    "\n",
    "\n",
    "# Disable GPU\n",
    "os.environ[\"CUDA_VISIBLE_DEVICES\"] = \"\""
   ]
  },
  {
   "cell_type": "code",
   "execution_count": 2,
   "metadata": {},
   "outputs": [],
   "source": [
    "train, test = keras.datasets.cifar10.load_data()"
   ]
  },
  {
   "cell_type": "code",
   "execution_count": 3,
   "metadata": {},
   "outputs": [],
   "source": [
    "## 資料前處理\n",
    "def preproc_x(x, flatten=True):\n",
    "    x = x / 255.\n",
    "    if flatten:\n",
    "        x = x.reshape((len(x), -1))\n",
    "    return x\n",
    "\n",
    "def preproc_y(y, num_classes=10):\n",
    "    if y.shape[-1] == 1:\n",
    "        y = keras.utils.to_categorical(y, num_classes)\n",
    "    return y    "
   ]
  },
  {
   "cell_type": "code",
   "execution_count": 4,
   "metadata": {},
   "outputs": [],
   "source": [
    "x_train, y_train = train\n",
    "x_test, y_test = test\n",
    "\n",
    "# Preproc the inputs\n",
    "x_train = preproc_x(x_train)\n",
    "x_test = preproc_x(x_test)\n",
    "\n",
    "# Preprc the outputs\n",
    "y_train = preproc_y(y_train)\n",
    "y_test = preproc_y(y_test)"
   ]
  },
  {
   "cell_type": "code",
   "execution_count": 5,
   "metadata": {},
   "outputs": [],
   "source": [
    "# def build_mlp():\n",
    "#     \"\"\"\n",
    "#     Build your own model\n",
    "#     \"\"\"\n",
    "#     return model\n",
    "from keras.layers import BatchNormalization\n",
    "def build_mlp(input_shape, output_units=10, num_neurons=[512, 256, 128]):\n",
    "    input_layer = keras.layers.Input(input_shape)\n",
    "    \n",
    "    for i, n_units in enumerate(num_neurons):\n",
    "        if i == 0:\n",
    "            x = keras.layers.Dense(units=n_units, \n",
    "                                   activation=\"relu\", \n",
    "                                   name=\"hidden_layer\"+str(i+1))(input_layer)\n",
    "            x = BatchNormalization()(x)\n",
    "        else:\n",
    "            x = keras.layers.Dense(units=n_units, \n",
    "                                   activation=\"relu\", \n",
    "                                   name=\"hidden_layer\"+str(i+1))(x)\n",
    "            x = BatchNormalization()(x)\n",
    "    \n",
    "    out = keras.layers.Dense(units=output_units, activation=\"softmax\", name=\"output\")(x)\n",
    "    \n",
    "    model = keras.models.Model(inputs=[input_layer], outputs=[out])\n",
    "    return model"
   ]
  },
  {
   "cell_type": "code",
   "execution_count": 6,
   "metadata": {},
   "outputs": [],
   "source": [
    "# ## 超參數設定\n",
    "# \"\"\"\n",
    "# Set your hyper-parameters\n",
    "# \"\"\"\n",
    "LEARNING_RATE = 1e-3\n",
    "EPOCHS = 15\n",
    "BATCH_SIZE = 1024\n",
    "MOMENTUM = 0.95"
   ]
  },
  {
   "cell_type": "code",
   "execution_count": 7,
   "metadata": {},
   "outputs": [],
   "source": [
    "# # 載入 Callbacks\n",
    "# \"\"\"\n",
    "# Earlystop setting\n",
    "# \"\"\"\n",
    "# 載入 Callbacks\n",
    "from keras.callbacks import EarlyStopping\n",
    "\n",
    "earlystop = EarlyStopping(monitor=\"val_loss\", \n",
    "                          patience=10, \n",
    "                          verbose=1\n",
    "                          )"
   ]
  },
  {
   "cell_type": "code",
   "execution_count": 8,
   "metadata": {},
   "outputs": [
    {
     "name": "stdout",
     "output_type": "stream",
     "text": [
      "_________________________________________________________________\n",
      "Layer (type)                 Output Shape              Param #   \n",
      "=================================================================\n",
      "input_1 (InputLayer)         (None, 3072)              0         \n",
      "_________________________________________________________________\n",
      "hidden_layer1 (Dense)        (None, 512)               1573376   \n",
      "_________________________________________________________________\n",
      "batch_normalization_1 (Batch (None, 512)               2048      \n",
      "_________________________________________________________________\n",
      "hidden_layer2 (Dense)        (None, 256)               131328    \n",
      "_________________________________________________________________\n",
      "batch_normalization_2 (Batch (None, 256)               1024      \n",
      "_________________________________________________________________\n",
      "hidden_layer3 (Dense)        (None, 128)               32896     \n",
      "_________________________________________________________________\n",
      "batch_normalization_3 (Batch (None, 128)               512       \n",
      "_________________________________________________________________\n",
      "output (Dense)               (None, 10)                1290      \n",
      "=================================================================\n",
      "Total params: 1,742,474\n",
      "Trainable params: 1,740,682\n",
      "Non-trainable params: 1,792\n",
      "_________________________________________________________________\n",
      "Train on 50000 samples, validate on 10000 samples\n",
      "Epoch 1/15\n",
      "50000/50000 [==============================] - 13s 261us/step - loss: 2.2212 - acc: 0.2712 - val_loss: 2.0968 - val_acc: 0.3206\n",
      "Epoch 2/15\n",
      "50000/50000 [==============================] - 11s 223us/step - loss: 1.7410 - acc: 0.3933 - val_loss: 1.7968 - val_acc: 0.3796\n",
      "Epoch 3/15\n",
      "50000/50000 [==============================] - 11s 223us/step - loss: 1.6183 - acc: 0.4345 - val_loss: 1.6679 - val_acc: 0.4231\n",
      "Epoch 4/15\n",
      "50000/50000 [==============================] - 11s 226us/step - loss: 1.5460 - acc: 0.4610 - val_loss: 1.6378 - val_acc: 0.4288\n",
      "Epoch 5/15\n",
      "50000/50000 [==============================] - 11s 220us/step - loss: 1.4906 - acc: 0.4798 - val_loss: 1.5899 - val_acc: 0.4431\n",
      "Epoch 6/15\n",
      "50000/50000 [==============================] - 11s 222us/step - loss: 1.4448 - acc: 0.4947 - val_loss: 1.5812 - val_acc: 0.4411\n",
      "Epoch 7/15\n",
      "50000/50000 [==============================] - 11s 226us/step - loss: 1.4052 - acc: 0.5109 - val_loss: 1.5632 - val_acc: 0.4495\n",
      "Epoch 8/15\n",
      "50000/50000 [==============================] - 11s 222us/step - loss: 1.3697 - acc: 0.5218 - val_loss: 1.5148 - val_acc: 0.4694\n",
      "Epoch 9/15\n",
      "50000/50000 [==============================] - 11s 226us/step - loss: 1.3361 - acc: 0.5357 - val_loss: 1.5051 - val_acc: 0.4730\n",
      "Epoch 10/15\n",
      "50000/50000 [==============================] - 11s 227us/step - loss: 1.3057 - acc: 0.5487 - val_loss: 1.4930 - val_acc: 0.4728\n",
      "Epoch 11/15\n",
      "50000/50000 [==============================] - 11s 224us/step - loss: 1.2757 - acc: 0.5570 - val_loss: 1.4849 - val_acc: 0.4761\n",
      "Epoch 12/15\n",
      "50000/50000 [==============================] - 11s 227us/step - loss: 1.2489 - acc: 0.5673 - val_loss: 1.4695 - val_acc: 0.4809\n",
      "Epoch 13/15\n",
      "50000/50000 [==============================] - 11s 224us/step - loss: 1.2241 - acc: 0.5763 - val_loss: 1.4690 - val_acc: 0.4797\n",
      "Epoch 14/15\n",
      "50000/50000 [==============================] - 11s 224us/step - loss: 1.1991 - acc: 0.5854 - val_loss: 1.4680 - val_acc: 0.4842\n",
      "Epoch 15/15\n",
      "50000/50000 [==============================] - 11s 229us/step - loss: 1.1728 - acc: 0.5940 - val_loss: 1.4847 - val_acc: 0.4832\n"
     ]
    }
   ],
   "source": [
    "\"\"\"\n",
    "Your Training loop and Plot the results\n",
    "\"\"\"\n",
    "model = build_mlp(input_shape=x_train.shape[1:])\n",
    "model.summary()\n",
    "optimizer = keras.optimizers.SGD(lr=LEARNING_RATE, nesterov=True, momentum=MOMENTUM)\n",
    "model.compile(loss=\"categorical_crossentropy\", metrics=[\"accuracy\"], optimizer=optimizer)\n",
    "\n",
    "model.fit(x_train, y_train, \n",
    "          epochs=EPOCHS, \n",
    "          batch_size=BATCH_SIZE, \n",
    "          validation_data=(x_test, y_test), \n",
    "          shuffle=True,\n",
    "          callbacks=[earlystop]\n",
    "         )\n",
    "\n",
    "# Collect results\n",
    "train_loss = model.history.history[\"loss\"]\n",
    "valid_loss = model.history.history[\"val_loss\"]\n",
    "train_acc = model.history.history[\"acc\"]\n",
    "valid_acc = model.history.history[\"val_acc\"]"
   ]
  },
  {
   "cell_type": "code",
   "execution_count": 9,
   "metadata": {},
   "outputs": [
    {
     "data": {
      "image/png": "[encoded data removed]",
      "text/plain": [
       "<matplotlib.figure.Figure at 0x20230ac14a8>"
      ]
     },
     "metadata": {},
     "output_type": "display_data"
    },
    {
     "data": {
      "image/png": "[encoded data removed]",
      "text/plain": [
       "<matplotlib.figure.Figure at 0x202404bc278>"
      ]
     },
     "metadata": {},
     "output_type": "display_data"
    }
   ],
   "source": [
    "import matplotlib.pyplot as plt\n",
    "%matplotlib inline\n",
    "\n",
    "plt.plot(range(len(train_loss)), train_loss, label=\"train loss\")\n",
    "plt.plot(range(len(valid_loss)), valid_loss, label=\"valid loss\")\n",
    "plt.legend()\n",
    "plt.title(\"Loss\")\n",
    "plt.show()\n",
    "\n",
    "plt.plot(range(len(train_acc)), train_acc, label=\"train accuracy\")\n",
    "plt.plot(range(len(valid_acc)), valid_acc, label=\"valid accuracy\")\n",
    "plt.legend()\n",
    "plt.title(\"Accuracy\")\n",
    "plt.show()"
   ]
  },
  {
   "cell_type": "code",
   "execution_count": null,
   "metadata": {},
   "outputs": [],
   "source": []
  },
  {
   "cell_type": "code",
   "execution_count": 10,
   "metadata": {},
   "outputs": [],
   "source": [
    "earlystop = EarlyStopping(monitor=\"val_loss\", \n",
    "                          patience=25, \n",
    "                          verbose=1\n",
    "                          )"
   ]
  },
  {
   "cell_type": "code",
   "execution_count": 11,
   "metadata": {},
   "outputs": [
    {
     "name": "stdout",
     "output_type": "stream",
     "text": [
      "_________________________________________________________________\n",
      "Layer (type)                 Output Shape              Param #   \n",
      "=================================================================\n",
      "input_2 (InputLayer)         (None, 3072)              0         \n",
      "_________________________________________________________________\n",
      "hidden_layer1 (Dense)        (None, 512)               1573376   \n",
      "_________________________________________________________________\n",
      "batch_normalization_4 (Batch (None, 512)               2048      \n",
      "_________________________________________________________________\n",
      "hidden_layer2 (Dense)        (None, 256)               131328    \n",
      "_________________________________________________________________\n",
      "batch_normalization_5 (Batch (None, 256)               1024      \n",
      "_________________________________________________________________\n",
      "hidden_layer3 (Dense)        (None, 128)               32896     \n",
      "_________________________________________________________________\n",
      "batch_normalization_6 (Batch (None, 128)               512       \n",
      "_________________________________________________________________\n",
      "output (Dense)               (None, 10)                1290      \n",
      "=================================================================\n",
      "Total params: 1,742,474\n",
      "Trainable params: 1,740,682\n",
      "Non-trainable params: 1,792\n",
      "_________________________________________________________________\n",
      "Train on 50000 samples, validate on 10000 samples\n",
      "Epoch 1/15\n",
      "50000/50000 [==============================] - 13s 267us/step - loss: 2.2142 - acc: 0.2739 - val_loss: 2.1275 - val_acc: 0.3145\n",
      "Epoch 2/15\n",
      "50000/50000 [==============================] - 12s 234us/step - loss: 1.7421 - acc: 0.3972 - val_loss: 1.8326 - val_acc: 0.3777\n",
      "Epoch 3/15\n",
      "50000/50000 [==============================] - 13s 253us/step - loss: 1.6173 - acc: 0.4334 - val_loss: 1.7110 - val_acc: 0.4072\n",
      "Epoch 4/15\n",
      "50000/50000 [==============================] - 11s 229us/step - loss: 1.5436 - acc: 0.4609 - val_loss: 1.6289 - val_acc: 0.4307\n",
      "Epoch 5/15\n",
      "50000/50000 [==============================] - 12s 235us/step - loss: 1.4885 - acc: 0.4800 - val_loss: 1.5837 - val_acc: 0.4412\n",
      "Epoch 6/15\n",
      "50000/50000 [==============================] - 12s 233us/step - loss: 1.4418 - acc: 0.4969 - val_loss: 1.5741 - val_acc: 0.4459\n",
      "Epoch 7/15\n",
      "50000/50000 [==============================] - 11s 226us/step - loss: 1.4034 - acc: 0.5089 - val_loss: 1.5423 - val_acc: 0.4619\n",
      "Epoch 8/15\n",
      "50000/50000 [==============================] - 12s 232us/step - loss: 1.3668 - acc: 0.5234 - val_loss: 1.5400 - val_acc: 0.4541\n",
      "Epoch 9/15\n",
      "50000/50000 [==============================] - 11s 227us/step - loss: 1.3330 - acc: 0.5358 - val_loss: 1.5296 - val_acc: 0.4600\n",
      "Epoch 10/15\n",
      "50000/50000 [==============================] - 12s 233us/step - loss: 1.3020 - acc: 0.5469 - val_loss: 1.5077 - val_acc: 0.4687\n",
      "Epoch 11/15\n",
      "50000/50000 [==============================] - 12s 235us/step - loss: 1.2738 - acc: 0.5578 - val_loss: 1.4974 - val_acc: 0.4728\n",
      "Epoch 12/15\n",
      "50000/50000 [==============================] - 12s 230us/step - loss: 1.2455 - acc: 0.5677 - val_loss: 1.4839 - val_acc: 0.4796\n",
      "Epoch 13/15\n",
      "50000/50000 [==============================] - 11s 226us/step - loss: 1.2187 - acc: 0.5761 - val_loss: 1.4873 - val_acc: 0.4771\n",
      "Epoch 14/15\n",
      "50000/50000 [==============================] - 12s 235us/step - loss: 1.1958 - acc: 0.5832 - val_loss: 1.4839 - val_acc: 0.4772\n",
      "Epoch 15/15\n",
      "50000/50000 [==============================] - 12s 237us/step - loss: 1.1680 - acc: 0.5972 - val_loss: 1.4656 - val_acc: 0.4862\n"
     ]
    }
   ],
   "source": [
    "\"\"\"\n",
    "Your Training loop and Plot the results\n",
    "\"\"\"\n",
    "model = build_mlp(input_shape=x_train.shape[1:])\n",
    "model.summary()\n",
    "optimizer = keras.optimizers.SGD(lr=LEARNING_RATE, nesterov=True, momentum=MOMENTUM)\n",
    "model.compile(loss=\"categorical_crossentropy\", metrics=[\"accuracy\"], optimizer=optimizer)\n",
    "\n",
    "model.fit(x_train, y_train, \n",
    "          epochs=EPOCHS, \n",
    "          batch_size=BATCH_SIZE, \n",
    "          validation_data=(x_test, y_test), \n",
    "          shuffle=True,\n",
    "          callbacks=[earlystop]\n",
    "         )\n",
    "\n",
    "# Collect results\n",
    "train_loss = model.history.history[\"loss\"]\n",
    "valid_loss = model.history.history[\"val_loss\"]\n",
    "train_acc = model.history.history[\"acc\"]\n",
    "valid_acc = model.history.history[\"val_acc\"]"
   ]
  },
  {
   "cell_type": "code",
   "execution_count": 12,
   "metadata": {},
   "outputs": [
    {
     "data": {
      "image/png": "[encoded data removed]",
      "text/plain": [
       "<matplotlib.figure.Figure at 0x20230adae48>"
      ]
     },
     "metadata": {},
     "output_type": "display_data"
    },
    {
     "data": {
      "image/png": "[encoded data removed]",
      "text/plain": [
       "<matplotlib.figure.Figure at 0x20243f3df98>"
      ]
     },
     "metadata": {},
     "output_type": "display_data"
    }
   ],
   "source": [
    "import matplotlib.pyplot as plt\n",
    "%matplotlib inline\n",
    "\n",
    "plt.plot(range(len(train_loss)), train_loss, label=\"train loss\")\n",
    "plt.plot(range(len(valid_loss)), valid_loss, label=\"valid loss\")\n",
    "plt.legend()\n",
    "plt.title(\"Loss\")\n",
    "plt.show()\n",
    "\n",
    "plt.plot(range(len(train_acc)), train_acc, label=\"train accuracy\")\n",
    "plt.plot(range(len(valid_acc)), valid_acc, label=\"valid accuracy\")\n",
    "plt.legend()\n",
    "plt.title(\"Accuracy\")\n",
    "plt.show()"
   ]
  }
 ],
 "metadata": {
  "kernelspec": {
   "display_name": "Python 3",
   "language": "python",
   "name": "python3"
  },
  "language_info": {
   "codemirror_mode": {
    "name": "ipython",
    "version": 3
   },
   "file_extension": ".py",
   "mimetype": "text/x-python",
   "name": "python",
   "nbconvert_exporter": "python",
   "pygments_lexer": "ipython3",
   "version": "3.6.4"
  }
 },
 "nbformat": 4,
 "nbformat_minor": 2
}
