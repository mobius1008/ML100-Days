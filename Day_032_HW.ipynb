{
 "cells": [
  {
   "cell_type": "markdown",
   "metadata": {},
   "source": [
    "## 練習時間\n",
    "相信大家目前都能夠初步了解機器學習專案的流程及步驟，今天的作業希望大家能夠看看全球機器學習巨頭們在做的機器學習專案。以 google 為例，下圖是 Google 內部專案使用機器學習的數量，隨著時間進展，現在早已超過 2000 個專案在使用 ML。"
   ]
  },
  {
   "cell_type": "markdown",
   "metadata": {},
   "source": [
    "![image](https://cdn-images-1.medium.com/max/800/1*U_L8qI8RmYS-MOBrYvXhSA.png)"
   ]
  },
  {
   "cell_type": "markdown",
   "metadata": {},
   "source": [
    "底下幫同學整理幾間知名企業的 blog 或機器學習網站 (自行搜尋也可)，請挑選一篇文章閱讀並試著回答\n",
    "1. 專案的目標？ (要解決什麼問題）\n",
    "2. 使用的技術是？ (只需知道名稱即可，例如：使用 CNN 卷積神經網路做影像分類)\n",
    "3. 資料來源？ "
   ]
  },
  {
   "cell_type": "markdown",
   "metadata": {},
   "source": [
    "- [Google AI blog](https://ai.googleblog.com/)\n",
    "- [Facebook Research blog](https://research.fb.com/blog/)\n",
    "- [Apple machine learning journal](https://machinelearning.apple.com/)\n",
    "- [機器之心](https://www.jiqizhixin.com/)\n",
    "- [雷鋒網](http://www.leiphone.com/category/ai)"
   ]
  },
  {
   "cell_type": "markdown",
   "metadata": {},
   "source": [
    "Kaggle 光度测定 LSST 天文时间序列分类挑战赛冠军出炉，看他提高分数的秘诀\n",
    "https://www.leiphone.com/news/201901/W8uJ6U7vJ5Xmsrq5.html\n",
    "\n",
    "PLAsTiCC Astronomical Classification\n",
    "https://www.kaggle.com/c/PLAsTiCC-2018\n",
    "https://github.com/kboone/plasticc\n",
    "\n",
    "几百年来，人眼一直是夜空中天文源（astronomical sources）分类的仲裁者。但是，一个新的设备——大型天气观测望远镜（LSST）——即将彻底改变这个领域，它发现了 10 - 100 倍于我们所知的在夜空中变化的天文源，其中一些天文源是以前完全没有被发现的。\n",
    "\n",
    "为了帮助一些世界领先的天文学家掌握宇宙最本质的特征，光度 LSST 天文时间序列分类挑战赛（PLAsTiCC）要求 Kaggers 对这项新调查的数据进行分类。参赛者将被要求把随时间变化的天文数据源分为不同的类，类的大小不一，从小的训练集到 LSST 能够发现的非常大的测试集都有涉及\n",
    "\n",
    "\n",
    "使用高斯过程（GP）回归来提取特征。我用一个在波长方向上具有固定长度刻度和在时间方向上具有可变长度刻度的 Matern Kernel 对每个物体进行了 GP 训练。我的机器每秒可以进行 10 次拟合，因此需要大约 3 天的时间来完成所有拟合。高斯过程为采样良好的光度曲线生成了非常好的模型，即使测量是在不同的波段也是如此。对于采样率很低的光度曲线，GP 很好地拟合了可用的数据，但并不总是能很好地进行预测。\n",
    "\n",
    "用 GP 预测计算了许多不同的特征。超新星的显著特征是它们的峰值亮度和光度曲线的宽度，所以我在模型中对它们进行了一些测量。对于采样率很低的光度曲线，GP 并不总是能给出很好的结果，所以我添加了一些特性。这基本上归结为计算在最大光周围不同窗口中的观测次数。我还增加了与每个波段的信噪比相关的特性以及一些简单的峰值检测和计数，来帮助对非超新星进行分类。\n",
    "\n"
   ]
  }
 ],
 "metadata": {
  "kernelspec": {
   "display_name": "Python 3",
   "language": "python",
   "name": "python3"
  },
  "language_info": {
   "codemirror_mode": {
    "name": "ipython",
    "version": 3
   },
   "file_extension": ".py",
   "mimetype": "text/x-python",
   "name": "python",
   "nbconvert_exporter": "python",
   "pygments_lexer": "ipython3",
   "version": "3.6.4"
  }
 },
 "nbformat": 4,
 "nbformat_minor": 2
}
