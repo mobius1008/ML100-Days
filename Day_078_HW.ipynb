{
 "cells": [
  {
   "cell_type": "markdown",
   "metadata": {},
   "source": [
    "## Work\n",
    "1. 請嘗試將 preproc_x 替換成以每筆資料的 min/max 進行標準化至 -1 ~ 1 間，再進行訓練\n",
    "2. 請嘗試將 mlp 疊更深 (e.g 5~10 層)，進行訓練後觀察 learning curve 的走勢\n",
    "3. (optional) 請改用 GPU 進行訓練 (如果你有 GPU 的話)，比較使用 CPU 與 GPU 的訓練速度"
   ]
  },
  {
   "cell_type": "code",
   "execution_count": 1,
   "metadata": {},
   "outputs": [
    {
     "name": "stdout",
     "output_type": "stream",
     "text": [
      "Tue Apr 02 22:10:37 2019       \n",
      "+-----------------------------------------------------------------------------+\n",
      "| NVIDIA-SMI 398.82                 Driver Version: 398.82                    |\n",
      "|-------------------------------+----------------------+----------------------+\n",
      "| GPU  Name            TCC/WDDM | Bus-Id        Disp.A | Volatile Uncorr. ECC |\n",
      "| Fan  Temp  Perf  Pwr:Usage/Cap|         Memory-Usage | GPU-Util  Compute M. |\n",
      "|===============================+======================+======================|\n",
      "|   0  GeForce MX150      WDDM  | 00000000:01:00.0 Off |                  N/A |\n",
      "| N/A   37C    P8    N/A /  N/A |    315MiB /  2048MiB |      6%      Default |\n",
      "+-------------------------------+----------------------+----------------------+\n",
      "                                                                               \n",
      "+-----------------------------------------------------------------------------+\n",
      "| Processes:                                                       GPU Memory |\n",
      "|  GPU       PID   Type   Process name                             Usage      |\n",
      "|=============================================================================|\n",
      "|    0      2080    C+G   C:\\Program Files (x86)\\SCM\\SCM.exe         N/A      |\n",
      "|    0      2528    C+G   ...osoft.LockApp_cw5n1h2txyewy\\LockApp.exe N/A      |\n",
      "|    0      8972    C+G   ...6)\\Google\\Chrome\\Application\\chrome.exe N/A      |\n",
      "|    0      9896    C+G   ... Files (x86)\\Dropbox\\Client\\Dropbox.exe N/A      |\n",
      "|    0     15136    C+G   ...86)\\MSI\\Dragon Center\\Dragon Center.exe N/A      |\n",
      "|    0     16808    C+G   ...0192.0_x64__8wekyb3d8bbwe\\HxOutlook.exe N/A      |\n",
      "+-----------------------------------------------------------------------------+\n"
     ]
    }
   ],
   "source": [
    "## 確認硬體資源\n",
    "\"\"\"\n",
    "Your code here\n",
    "\"\"\"\n",
    "\n",
    "!nvidia-smi"
   ]
  },
  {
   "cell_type": "code",
   "execution_count": 3,
   "metadata": {},
   "outputs": [
    {
     "name": "stderr",
     "output_type": "stream",
     "text": [
      "C:\\ProgramData\\Anaconda3\\envs\\tensorflow_cpu\\lib\\site-packages\\h5py\\__init__.py:36: FutureWarning: Conversion of the second argument of issubdtype from `float` to `np.floating` is deprecated. In future, it will be treated as `np.float64 == np.dtype(float).type`.\n",
      "  from ._conv import register_converters as _register_converters\n",
      "Using TensorFlow backend.\n"
     ]
    }
   ],
   "source": [
    "import os\n",
    "import keras\n",
    "\n",
    "# Try to enable GPU (optional)\n"
   ]
  },
  {
   "cell_type": "code",
   "execution_count": 4,
   "metadata": {},
   "outputs": [],
   "source": [
    "train, test = keras.datasets.cifar10.load_data()"
   ]
  },
  {
   "cell_type": "code",
   "execution_count": 5,
   "metadata": {},
   "outputs": [],
   "source": [
    "## 資料前處理\n",
    "\"\"\"\n",
    "Your code here\n",
    "\"\"\"\n",
    "def preproc_x(x, flatten=True):\n",
    "    x = x / 255.\n",
    "    if flatten:\n",
    "        x = x.reshape((len(x), -1))\n",
    "    return x\n",
    "\n",
    "def preproc_y(y, num_classes=10):\n",
    "    if y.shape[-1] == 1:\n",
    "        y = keras.utils.to_categorical(y, num_classes)\n",
    "    return y    "
   ]
  },
  {
   "cell_type": "code",
   "execution_count": 6,
   "metadata": {},
   "outputs": [],
   "source": [
    "x_train, y_train = train\n",
    "x_test, y_test = test\n",
    "\n",
    "# Preproc the inputs\n",
    "x_train = preproc_x(x_train)\n",
    "x_test = preproc_x(x_test)\n",
    "\n",
    "# Preprc the outputs\n",
    "y_train = preproc_y(y_train)\n",
    "y_test = preproc_y(y_test)"
   ]
  },
  {
   "cell_type": "code",
   "execution_count": 7,
   "metadata": {},
   "outputs": [
    {
     "name": "stdout",
     "output_type": "stream",
     "text": [
      "_________________________________________________________________\n",
      "Layer (type)                 Output Shape              Param #   \n",
      "=================================================================\n",
      "input_1 (InputLayer)         (None, 3072)              0         \n",
      "_________________________________________________________________\n",
      "hidden_layer1 (Dense)        (None, 512)               1573376   \n",
      "_________________________________________________________________\n",
      "hidden_layer2 (Dense)        (None, 256)               131328    \n",
      "_________________________________________________________________\n",
      "hidden_layer3 (Dense)        (None, 128)               32896     \n",
      "_________________________________________________________________\n",
      "output (Dense)               (None, 10)                1290      \n",
      "=================================================================\n",
      "Total params: 1,738,890\n",
      "Trainable params: 1,738,890\n",
      "Non-trainable params: 0\n",
      "_________________________________________________________________\n"
     ]
    }
   ],
   "source": [
    "\"\"\"\n",
    "Your code here\n",
    "\"\"\"\n",
    "def build_mlp(input_shape, output_units=10, num_neurons=[512, 256, 128]):\n",
    "    input_layer = keras.layers.Input(input_shape)\n",
    "    \n",
    "    for i, n_units in enumerate(num_neurons):\n",
    "        if i == 0:\n",
    "            x = keras.layers.Dense(units=n_units, activation=\"relu\", name=\"hidden_layer\"+str(i+1))(input_layer)\n",
    "        else:\n",
    "            x = keras.layers.Dense(units=n_units, activation=\"relu\", name=\"hidden_layer\"+str(i+1))(x)\n",
    "    \n",
    "    out = keras.layers.Dense(units=output_units, activation=\"softmax\", name=\"output\")(x)\n",
    "    \n",
    "    model = keras.models.Model(inputs=[input_layer], outputs=[out])\n",
    "    return model\n",
    "model = build_mlp(input_shape=x_train.shape[1:])\n",
    "model.summary()"
   ]
  },
  {
   "cell_type": "code",
   "execution_count": 8,
   "metadata": {},
   "outputs": [],
   "source": [
    "## 超參數設定\n",
    "LEARNING_RATE = 0.001\n",
    "EPOCHS = 100\n",
    "BATCH_SIZE = 256"
   ]
  },
  {
   "cell_type": "code",
   "execution_count": 9,
   "metadata": {},
   "outputs": [],
   "source": [
    "optimizer = keras.optimizers.Adam(lr=LEARNING_RATE)\n",
    "model.compile(loss=\"categorical_crossentropy\", metrics=[\"accuracy\"], optimizer=optimizer)"
   ]
  },
  {
   "cell_type": "code",
   "execution_count": 10,
   "metadata": {},
   "outputs": [
    {
     "name": "stdout",
     "output_type": "stream",
     "text": [
      "Train on 50000 samples, validate on 10000 samples\n",
      "Epoch 1/100\n",
      "50000/50000 [==============================] - 19s 371us/step - loss: 1.9311 - acc: 0.3022 - val_loss: 1.7625 - val_acc: 0.3682\n",
      "Epoch 2/100\n",
      "50000/50000 [==============================] - 17s 341us/step - loss: 1.7062 - acc: 0.3917 - val_loss: 1.6853 - val_acc: 0.3978\n",
      "Epoch 3/100\n",
      "50000/50000 [==============================] - 17s 337us/step - loss: 1.6210 - acc: 0.4201 - val_loss: 1.6307 - val_acc: 0.4210\n",
      "Epoch 4/100\n",
      "50000/50000 [==============================] - 18s 355us/step - loss: 1.5496 - acc: 0.4485 - val_loss: 1.5911 - val_acc: 0.4301\n",
      "Epoch 5/100\n",
      "50000/50000 [==============================] - 17s 332us/step - loss: 1.5054 - acc: 0.4609 - val_loss: 1.4857 - val_acc: 0.4742\n",
      "Epoch 6/100\n",
      "50000/50000 [==============================] - 17s 348us/step - loss: 1.4670 - acc: 0.4770 - val_loss: 1.5282 - val_acc: 0.4462\n",
      "Epoch 7/100\n",
      "50000/50000 [==============================] - 18s 352us/step - loss: 1.4376 - acc: 0.4887 - val_loss: 1.4728 - val_acc: 0.4734\n",
      "Epoch 8/100\n",
      "50000/50000 [==============================] - 18s 353us/step - loss: 1.3992 - acc: 0.5011 - val_loss: 1.4300 - val_acc: 0.4929\n",
      "Epoch 9/100\n",
      "50000/50000 [==============================] - 17s 339us/step - loss: 1.3695 - acc: 0.5127 - val_loss: 1.4405 - val_acc: 0.4873\n",
      "Epoch 10/100\n",
      "50000/50000 [==============================] - 17s 343us/step - loss: 1.3472 - acc: 0.5205 - val_loss: 1.4017 - val_acc: 0.5043\n",
      "Epoch 11/100\n",
      "50000/50000 [==============================] - 19s 370us/step - loss: 1.3264 - acc: 0.5260 - val_loss: 1.4406 - val_acc: 0.4875\n",
      "Epoch 12/100\n",
      "50000/50000 [==============================] - 18s 356us/step - loss: 1.2925 - acc: 0.5405 - val_loss: 1.4070 - val_acc: 0.5010\n",
      "Epoch 13/100\n",
      "50000/50000 [==============================] - 18s 353us/step - loss: 1.2731 - acc: 0.5468 - val_loss: 1.4183 - val_acc: 0.4933\n",
      "Epoch 14/100\n",
      "50000/50000 [==============================] - 17s 344us/step - loss: 1.2573 - acc: 0.5526 - val_loss: 1.3680 - val_acc: 0.5153\n",
      "Epoch 15/100\n",
      "50000/50000 [==============================] - 18s 350us/step - loss: 1.2265 - acc: 0.5636 - val_loss: 1.3792 - val_acc: 0.5104\n",
      "Epoch 16/100\n",
      "50000/50000 [==============================] - 18s 360us/step - loss: 1.2041 - acc: 0.5726 - val_loss: 1.3654 - val_acc: 0.5203\n",
      "Epoch 17/100\n",
      "50000/50000 [==============================] - 17s 346us/step - loss: 1.1780 - acc: 0.5783 - val_loss: 1.3569 - val_acc: 0.5243\n",
      "Epoch 18/100\n",
      "50000/50000 [==============================] - 17s 348us/step - loss: 1.1624 - acc: 0.5860 - val_loss: 1.4373 - val_acc: 0.5039\n",
      "Epoch 19/100\n",
      "50000/50000 [==============================] - 17s 348us/step - loss: 1.1436 - acc: 0.5933 - val_loss: 1.4178 - val_acc: 0.5020\n",
      "Epoch 20/100\n",
      "50000/50000 [==============================] - 17s 344us/step - loss: 1.1286 - acc: 0.5978 - val_loss: 1.3516 - val_acc: 0.5234\n",
      "Epoch 21/100\n",
      "50000/50000 [==============================] - 17s 343us/step - loss: 1.1066 - acc: 0.6048 - val_loss: 1.4063 - val_acc: 0.5201\n",
      "Epoch 22/100\n",
      "50000/50000 [==============================] - 17s 343us/step - loss: 1.0970 - acc: 0.6094 - val_loss: 1.3830 - val_acc: 0.5203\n",
      "Epoch 23/100\n",
      "50000/50000 [==============================] - 18s 350us/step - loss: 1.0738 - acc: 0.6169 - val_loss: 1.3758 - val_acc: 0.5250\n",
      "Epoch 24/100\n",
      "50000/50000 [==============================] - 18s 352us/step - loss: 1.0537 - acc: 0.6259 - val_loss: 1.3909 - val_acc: 0.5227\n",
      "Epoch 25/100\n",
      "50000/50000 [==============================] - 17s 344us/step - loss: 1.0357 - acc: 0.6293 - val_loss: 1.3634 - val_acc: 0.5318\n",
      "Epoch 26/100\n",
      "50000/50000 [==============================] - 17s 348us/step - loss: 1.0271 - acc: 0.6346 - val_loss: 1.3822 - val_acc: 0.5259\n",
      "Epoch 27/100\n",
      "50000/50000 [==============================] - 18s 360us/step - loss: 0.9996 - acc: 0.6420 - val_loss: 1.4189 - val_acc: 0.5179\n",
      "Epoch 28/100\n",
      "50000/50000 [==============================] - 17s 347us/step - loss: 0.9749 - acc: 0.6520 - val_loss: 1.4317 - val_acc: 0.5242\n",
      "Epoch 29/100\n",
      "50000/50000 [==============================] - 17s 344us/step - loss: 0.9735 - acc: 0.6536 - val_loss: 1.4927 - val_acc: 0.5119\n",
      "Epoch 30/100\n",
      "50000/50000 [==============================] - 17s 345us/step - loss: 0.9553 - acc: 0.6590 - val_loss: 1.4513 - val_acc: 0.5190\n",
      "Epoch 31/100\n",
      "50000/50000 [==============================] - 18s 352us/step - loss: 0.9417 - acc: 0.6616 - val_loss: 1.4401 - val_acc: 0.5223\n",
      "Epoch 32/100\n",
      "50000/50000 [==============================] - 17s 348us/step - loss: 0.9240 - acc: 0.6703 - val_loss: 1.4588 - val_acc: 0.5242\n",
      "Epoch 33/100\n",
      "50000/50000 [==============================] - 18s 357us/step - loss: 0.8989 - acc: 0.6773 - val_loss: 1.4626 - val_acc: 0.5201\n",
      "Epoch 34/100\n",
      "50000/50000 [==============================] - 17s 347us/step - loss: 0.8901 - acc: 0.6815 - val_loss: 1.4730 - val_acc: 0.5202\n",
      "Epoch 35/100\n",
      "50000/50000 [==============================] - 17s 342us/step - loss: 0.8562 - acc: 0.6934 - val_loss: 1.5425 - val_acc: 0.5025\n",
      "Epoch 36/100\n",
      "50000/50000 [==============================] - 18s 361us/step - loss: 0.8568 - acc: 0.6947 - val_loss: 1.4966 - val_acc: 0.5236\n",
      "Epoch 37/100\n",
      "50000/50000 [==============================] - 17s 340us/step - loss: 0.8410 - acc: 0.7001 - val_loss: 1.5522 - val_acc: 0.5203\n",
      "Epoch 38/100\n",
      "50000/50000 [==============================] - 17s 337us/step - loss: 0.8308 - acc: 0.7035 - val_loss: 1.5636 - val_acc: 0.5164\n",
      "Epoch 39/100\n",
      "50000/50000 [==============================] - 17s 344us/step - loss: 0.8030 - acc: 0.7129 - val_loss: 1.5321 - val_acc: 0.5222\n",
      "Epoch 40/100\n",
      "50000/50000 [==============================] - 17s 341us/step - loss: 0.7738 - acc: 0.7244 - val_loss: 1.5371 - val_acc: 0.5278\n",
      "Epoch 41/100\n",
      "50000/50000 [==============================] - 17s 346us/step - loss: 0.7601 - acc: 0.7290 - val_loss: 1.5814 - val_acc: 0.5251\n",
      "Epoch 42/100\n",
      "50000/50000 [==============================] - 17s 341us/step - loss: 0.7552 - acc: 0.7312 - val_loss: 1.5941 - val_acc: 0.5192\n",
      "Epoch 43/100\n",
      "50000/50000 [==============================] - 17s 344us/step - loss: 0.7531 - acc: 0.7313 - val_loss: 1.6527 - val_acc: 0.5178\n",
      "Epoch 44/100\n",
      "50000/50000 [==============================] - 17s 342us/step - loss: 0.7424 - acc: 0.7334 - val_loss: 1.7193 - val_acc: 0.5026\n",
      "Epoch 45/100\n",
      "50000/50000 [==============================] - 18s 352us/step - loss: 0.7253 - acc: 0.7404 - val_loss: 1.7010 - val_acc: 0.5134\n",
      "Epoch 46/100\n",
      "50000/50000 [==============================] - 18s 356us/step - loss: 0.7058 - acc: 0.7462 - val_loss: 1.6410 - val_acc: 0.5236\n",
      "Epoch 47/100\n",
      "50000/50000 [==============================] - 18s 360us/step - loss: 0.6839 - acc: 0.7560 - val_loss: 1.7459 - val_acc: 0.5133\n",
      "Epoch 48/100\n",
      "50000/50000 [==============================] - 18s 358us/step - loss: 0.6869 - acc: 0.7551 - val_loss: 1.7534 - val_acc: 0.5125\n",
      "Epoch 49/100\n",
      "50000/50000 [==============================] - 18s 356us/step - loss: 0.6593 - acc: 0.7638 - val_loss: 1.7133 - val_acc: 0.5234\n",
      "Epoch 50/100\n",
      "50000/50000 [==============================] - 17s 348us/step - loss: 0.6476 - acc: 0.7678 - val_loss: 1.7368 - val_acc: 0.5186\n",
      "Epoch 51/100\n",
      "50000/50000 [==============================] - 17s 343us/step - loss: 0.6447 - acc: 0.7693 - val_loss: 1.7601 - val_acc: 0.5208\n",
      "Epoch 52/100\n",
      "50000/50000 [==============================] - 17s 343us/step - loss: 0.6314 - acc: 0.7753 - val_loss: 1.8363 - val_acc: 0.5111\n",
      "Epoch 53/100\n",
      "50000/50000 [==============================] - 17s 339us/step - loss: 0.6284 - acc: 0.7745 - val_loss: 1.8305 - val_acc: 0.5150\n",
      "Epoch 54/100\n",
      "50000/50000 [==============================] - 17s 340us/step - loss: 0.6086 - acc: 0.7816 - val_loss: 1.8220 - val_acc: 0.5110\n",
      "Epoch 55/100\n",
      "50000/50000 [==============================] - 17s 339us/step - loss: 0.6024 - acc: 0.7846 - val_loss: 1.8586 - val_acc: 0.5186\n",
      "Epoch 56/100\n",
      "50000/50000 [==============================] - 17s 341us/step - loss: 0.5748 - acc: 0.7948 - val_loss: 1.9176 - val_acc: 0.5137\n",
      "Epoch 57/100\n",
      "50000/50000 [==============================] - 17s 338us/step - loss: 0.5753 - acc: 0.7933 - val_loss: 1.9267 - val_acc: 0.5142\n",
      "Epoch 58/100\n",
      "50000/50000 [==============================] - 17s 344us/step - loss: 0.5650 - acc: 0.7968 - val_loss: 1.9508 - val_acc: 0.5104\n"
     ]
    },
    {
     "name": "stdout",
     "output_type": "stream",
     "text": [
      "Epoch 59/100\n",
      "50000/50000 [==============================] - 17s 334us/step - loss: 0.5600 - acc: 0.7997 - val_loss: 1.9644 - val_acc: 0.5060\n",
      "Epoch 60/100\n",
      "50000/50000 [==============================] - 17s 333us/step - loss: 0.5576 - acc: 0.8016 - val_loss: 1.9642 - val_acc: 0.5098\n",
      "Epoch 61/100\n",
      "50000/50000 [==============================] - 16s 329us/step - loss: 0.5513 - acc: 0.8021 - val_loss: 2.0278 - val_acc: 0.5020\n",
      "Epoch 62/100\n",
      "50000/50000 [==============================] - 17s 334us/step - loss: 0.5106 - acc: 0.8165 - val_loss: 2.0531 - val_acc: 0.5096\n",
      "Epoch 63/100\n",
      "50000/50000 [==============================] - 17s 332us/step - loss: 0.5157 - acc: 0.8146 - val_loss: 2.0774 - val_acc: 0.5098\n",
      "Epoch 64/100\n",
      "50000/50000 [==============================] - 17s 333us/step - loss: 0.5101 - acc: 0.8167 - val_loss: 2.0429 - val_acc: 0.5094\n",
      "Epoch 65/100\n",
      "50000/50000 [==============================] - 17s 331us/step - loss: 0.4947 - acc: 0.8229 - val_loss: 2.1193 - val_acc: 0.5100\n",
      "Epoch 66/100\n",
      "50000/50000 [==============================] - 17s 335us/step - loss: 0.4932 - acc: 0.8229 - val_loss: 2.1139 - val_acc: 0.5115\n",
      "Epoch 67/100\n",
      "50000/50000 [==============================] - 17s 333us/step - loss: 0.4846 - acc: 0.8261 - val_loss: 2.1676 - val_acc: 0.5100\n",
      "Epoch 68/100\n",
      "50000/50000 [==============================] - 17s 337us/step - loss: 0.4796 - acc: 0.8288 - val_loss: 2.1621 - val_acc: 0.5110\n",
      "Epoch 69/100\n",
      "50000/50000 [==============================] - 17s 334us/step - loss: 0.4695 - acc: 0.8310 - val_loss: 2.2124 - val_acc: 0.5038\n",
      "Epoch 70/100\n",
      "50000/50000 [==============================] - 17s 335us/step - loss: 0.4550 - acc: 0.8354 - val_loss: 2.2776 - val_acc: 0.5009\n",
      "Epoch 71/100\n",
      "50000/50000 [==============================] - 17s 333us/step - loss: 0.4672 - acc: 0.8303 - val_loss: 2.3066 - val_acc: 0.5015\n",
      "Epoch 72/100\n",
      "50000/50000 [==============================] - 17s 334us/step - loss: 0.4446 - acc: 0.8413 - val_loss: 2.3014 - val_acc: 0.5088\n",
      "Epoch 73/100\n",
      "50000/50000 [==============================] - 16s 328us/step - loss: 0.4395 - acc: 0.8423 - val_loss: 2.2903 - val_acc: 0.5074\n",
      "Epoch 74/100\n",
      "50000/50000 [==============================] - 17s 334us/step - loss: 0.4270 - acc: 0.8468 - val_loss: 2.2931 - val_acc: 0.5065\n",
      "Epoch 75/100\n",
      "50000/50000 [==============================] - 17s 331us/step - loss: 0.4263 - acc: 0.8468 - val_loss: 2.3713 - val_acc: 0.5060\n",
      "Epoch 76/100\n",
      "50000/50000 [==============================] - 17s 335us/step - loss: 0.4324 - acc: 0.8458 - val_loss: 2.4083 - val_acc: 0.5115\n",
      "Epoch 77/100\n",
      "50000/50000 [==============================] - 16s 326us/step - loss: 0.4341 - acc: 0.8428 - val_loss: 2.3879 - val_acc: 0.5081\n",
      "Epoch 78/100\n",
      "50000/50000 [==============================] - 16s 329us/step - loss: 0.4024 - acc: 0.8557 - val_loss: 2.4093 - val_acc: 0.5084\n",
      "Epoch 79/100\n",
      "50000/50000 [==============================] - 16s 328us/step - loss: 0.3920 - acc: 0.8594 - val_loss: 2.4426 - val_acc: 0.5105\n",
      "Epoch 80/100\n",
      "50000/50000 [==============================] - 17s 330us/step - loss: 0.3665 - acc: 0.8690 - val_loss: 2.5344 - val_acc: 0.4992\n",
      "Epoch 81/100\n",
      "50000/50000 [==============================] - 16s 328us/step - loss: 0.4171 - acc: 0.8491 - val_loss: 2.5961 - val_acc: 0.5000\n",
      "Epoch 82/100\n",
      "50000/50000 [==============================] - 17s 336us/step - loss: 0.3859 - acc: 0.8620 - val_loss: 2.4961 - val_acc: 0.5068\n",
      "Epoch 83/100\n",
      "50000/50000 [==============================] - 17s 334us/step - loss: 0.3757 - acc: 0.8664 - val_loss: 2.5531 - val_acc: 0.5052\n",
      "Epoch 84/100\n",
      "50000/50000 [==============================] - 17s 341us/step - loss: 0.3717 - acc: 0.8668 - val_loss: 2.5225 - val_acc: 0.5001\n",
      "Epoch 85/100\n",
      "50000/50000 [==============================] - 17s 344us/step - loss: 0.3793 - acc: 0.8650 - val_loss: 2.5733 - val_acc: 0.5004\n",
      "Epoch 86/100\n",
      "50000/50000 [==============================] - 17s 349us/step - loss: 0.3558 - acc: 0.8727 - val_loss: 2.6795 - val_acc: 0.5051\n",
      "Epoch 87/100\n",
      "50000/50000 [==============================] - 17s 348us/step - loss: 0.3547 - acc: 0.8730 - val_loss: 2.7112 - val_acc: 0.4969\n",
      "Epoch 88/100\n",
      "50000/50000 [==============================] - 17s 347us/step - loss: 0.3749 - acc: 0.8649 - val_loss: 2.6840 - val_acc: 0.5028\n",
      "Epoch 89/100\n",
      "50000/50000 [==============================] - 17s 343us/step - loss: 0.3633 - acc: 0.8690 - val_loss: 2.6644 - val_acc: 0.5058\n",
      "Epoch 90/100\n",
      "50000/50000 [==============================] - 17s 338us/step - loss: 0.3208 - acc: 0.8856 - val_loss: 2.7474 - val_acc: 0.5030\n",
      "Epoch 91/100\n",
      "50000/50000 [==============================] - 17s 342us/step - loss: 0.3321 - acc: 0.8809 - val_loss: 2.7420 - val_acc: 0.5041\n",
      "Epoch 92/100\n",
      "50000/50000 [==============================] - 19s 370us/step - loss: 0.3537 - acc: 0.8730 - val_loss: 2.7286 - val_acc: 0.4983\n",
      "Epoch 93/100\n",
      "50000/50000 [==============================] - 18s 365us/step - loss: 0.3162 - acc: 0.8869 - val_loss: 2.8750 - val_acc: 0.5008\n",
      "Epoch 94/100\n",
      "50000/50000 [==============================] - 17s 340us/step - loss: 0.3346 - acc: 0.8794 - val_loss: 2.7816 - val_acc: 0.4996\n",
      "Epoch 95/100\n",
      "50000/50000 [==============================] - 17s 339us/step - loss: 0.3314 - acc: 0.8824 - val_loss: 2.8060 - val_acc: 0.4997\n",
      "Epoch 96/100\n",
      "50000/50000 [==============================] - 17s 346us/step - loss: 0.3130 - acc: 0.8885 - val_loss: 2.8793 - val_acc: 0.4999\n",
      "Epoch 97/100\n",
      "50000/50000 [==============================] - 17s 340us/step - loss: 0.3337 - acc: 0.8796 - val_loss: 2.9332 - val_acc: 0.4930\n",
      "Epoch 98/100\n",
      "50000/50000 [==============================] - 17s 341us/step - loss: 0.3441 - acc: 0.8769 - val_loss: 2.8830 - val_acc: 0.4963\n",
      "Epoch 99/100\n",
      "50000/50000 [==============================] - 17s 340us/step - loss: 0.3160 - acc: 0.8876 - val_loss: 2.9409 - val_acc: 0.4923\n",
      "Epoch 100/100\n",
      "50000/50000 [==============================] - 17s 338us/step - loss: 0.3153 - acc: 0.8866 - val_loss: 2.9582 - val_acc: 0.4949\n"
     ]
    },
    {
     "data": {
      "text/plain": [
       "<keras.callbacks.History at 0x267bb54eb70>"
      ]
     },
     "execution_count": 10,
     "metadata": {},
     "output_type": "execute_result"
    }
   ],
   "source": [
    "model.fit(x_train, y_train, \n",
    "          epochs=EPOCHS, \n",
    "          batch_size=BATCH_SIZE, \n",
    "          validation_data=(x_test, y_test), \n",
    "          shuffle=True)"
   ]
  },
  {
   "cell_type": "code",
   "execution_count": 12,
   "metadata": {},
   "outputs": [
    {
     "data": {
      "image/png": "[encoded data removed]",
      "text/plain": [
       "<matplotlib.figure.Figure at 0x267c5514cc0>"
      ]
     },
     "metadata": {},
     "output_type": "display_data"
    },
    {
     "data": {
      "image/png": "[encoded data removed]",
      "text/plain": [
       "<matplotlib.figure.Figure at 0x267c549de48>"
      ]
     },
     "metadata": {},
     "output_type": "display_data"
    }
   ],
   "source": [
    "import matplotlib.pyplot as plt\n",
    "\n",
    "\n",
    "train_loss = model.history.history[\"loss\"]\n",
    "valid_loss = model.history.history[\"val_loss\"]\n",
    "\n",
    "train_acc = model.history.history[\"acc\"]\n",
    "valid_acc = model.history.history[\"val_acc\"]\n",
    "\n",
    "plt.plot(range(len(train_loss)), train_loss, label=\"train loss\")\n",
    "plt.plot(range(len(valid_loss)), valid_loss, label=\"valid loss\")\n",
    "plt.legend()\n",
    "plt.title(\"Loss\")\n",
    "plt.show()\n",
    "\n",
    "plt.plot(range(len(train_acc)), train_acc, label=\"train accuracy\")\n",
    "plt.plot(range(len(valid_acc)), valid_acc, label=\"valid accuracy\")\n",
    "plt.legend()\n",
    "plt.title(\"Accuracy\")\n",
    "plt.show()"
   ]
  },
  {
   "cell_type": "code",
   "execution_count": null,
   "metadata": {},
   "outputs": [],
   "source": []
  }
 ],
 "metadata": {
  "kernelspec": {
   "display_name": "Python 3",
   "language": "python",
   "name": "python3"
  },
  "language_info": {
   "codemirror_mode": {
    "name": "ipython",
    "version": 3
   },
   "file_extension": ".py",
   "mimetype": "text/x-python",
   "name": "python",
   "nbconvert_exporter": "python",
   "pygments_lexer": "ipython3",
   "version": "3.6.4"
  }
 },
 "nbformat": 4,
 "nbformat_minor": 2
}
