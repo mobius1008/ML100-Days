{
 "cells": [
  {
   "cell_type": "markdown",
   "metadata": {},
   "source": [
    "## Work\n",
    "1. 試比較 save_best_only 與否的差異\n",
    "2. 請僅存入將 save_weights_only 設定為 True, 並嘗試 reset ipynb 並將模型與權重重新建回並預測 x_test"
   ]
  },
  {
   "cell_type": "code",
   "execution_count": 1,
   "metadata": {},
   "outputs": [
    {
     "name": "stderr",
     "output_type": "stream",
     "text": [
      "C:\\ProgramData\\Anaconda3\\envs\\tensorflow_cpu\\lib\\site-packages\\h5py\\__init__.py:36: FutureWarning: Conversion of the second argument of issubdtype from `float` to `np.floating` is deprecated. In future, it will be treated as `np.float64 == np.dtype(float).type`.\n",
      "  from ._conv import register_converters as _register_converters\n",
      "Using TensorFlow backend.\n"
     ]
    }
   ],
   "source": [
    "import os\n",
    "import keras\n",
    "\n",
    "# Disable GPU\n",
    "os.environ[\"CUDA_VISIBLE_DEVICES\"] = \"\""
   ]
  },
  {
   "cell_type": "code",
   "execution_count": 2,
   "metadata": {},
   "outputs": [],
   "source": [
    "train, test = keras.datasets.cifar10.load_data()"
   ]
  },
  {
   "cell_type": "code",
   "execution_count": 3,
   "metadata": {},
   "outputs": [],
   "source": [
    "## 資料前處理\n",
    "def preproc_x(x, flatten=True):\n",
    "    x = x / 255.\n",
    "    if flatten:\n",
    "        x = x.reshape((len(x), -1))\n",
    "    return x\n",
    "\n",
    "def preproc_y(y, num_classes=10):\n",
    "    if y.shape[-1] == 1:\n",
    "        y = keras.utils.to_categorical(y, num_classes)\n",
    "    return y    "
   ]
  },
  {
   "cell_type": "code",
   "execution_count": 4,
   "metadata": {},
   "outputs": [],
   "source": [
    "x_train, y_train = train\n",
    "x_test, y_test = test\n",
    "\n",
    "# Preproc the inputs\n",
    "x_train = preproc_x(x_train)\n",
    "x_test = preproc_x(x_test)\n",
    "\n",
    "# Preprc the outputs\n",
    "y_train = preproc_y(y_train)\n",
    "y_test = preproc_y(y_test)"
   ]
  },
  {
   "cell_type": "code",
   "execution_count": 5,
   "metadata": {},
   "outputs": [],
   "source": [
    "# def build_mlp():\n",
    "#     \"\"\"\n",
    "#     Build your own model\n",
    "#     \"\"\"\n",
    "#     return model\n",
    "from keras.layers import BatchNormalization\n",
    "def build_mlp(input_shape, output_units=10, num_neurons=[512, 256, 128]):\n",
    "    input_layer = keras.layers.Input(input_shape)\n",
    "    \n",
    "    for i, n_units in enumerate(num_neurons):\n",
    "        if i == 0:\n",
    "            x = keras.layers.Dense(units=n_units, \n",
    "                                   activation=\"relu\", \n",
    "                                   name=\"hidden_layer\"+str(i+1))(input_layer)\n",
    "            x = BatchNormalization()(x)\n",
    "        else:\n",
    "            x = keras.layers.Dense(units=n_units, \n",
    "                                   activation=\"relu\", \n",
    "                                   name=\"hidden_layer\"+str(i+1))(x)\n",
    "            x = BatchNormalization()(x)\n",
    "    \n",
    "    out = keras.layers.Dense(units=output_units, activation=\"softmax\", name=\"output\")(x)\n",
    "    \n",
    "    model = keras.models.Model(inputs=[input_layer], outputs=[out])\n",
    "    return model"
   ]
  },
  {
   "cell_type": "code",
   "execution_count": 6,
   "metadata": {},
   "outputs": [],
   "source": [
    "# ## 超參數設定\n",
    "# \"\"\"\n",
    "# Set your hyper-parameters\n",
    "# \"\"\"\n",
    "LEARNING_RATE = 1e-3\n",
    "EPOCHS = 15\n",
    "BATCH_SIZE = 1024\n",
    "MOMENTUM = 0.95"
   ]
  },
  {
   "cell_type": "code",
   "execution_count": 7,
   "metadata": {},
   "outputs": [],
   "source": [
    "# # 載入 Callbacks\n",
    "# from keras.callbacks import ModelCheckpoint\n",
    "# \"\"\"\n",
    "# Set model checkpoint callbacks\n",
    "# \"\"\"\n",
    "from keras.callbacks import ModelCheckpoint\n",
    "\n",
    "model_ckpt = ModelCheckpoint(filepath=\"./tmp_true.h5\", \n",
    "                             monitor=\"val_loss\", \n",
    "                             save_best_only=True)"
   ]
  },
  {
   "cell_type": "code",
   "execution_count": 8,
   "metadata": {
    "scrolled": true
   },
   "outputs": [
    {
     "name": "stdout",
     "output_type": "stream",
     "text": [
      "_________________________________________________________________\n",
      "Layer (type)                 Output Shape              Param #   \n",
      "=================================================================\n",
      "input_1 (InputLayer)         (None, 3072)              0         \n",
      "_________________________________________________________________\n",
      "hidden_layer1 (Dense)        (None, 512)               1573376   \n",
      "_________________________________________________________________\n",
      "batch_normalization_1 (Batch (None, 512)               2048      \n",
      "_________________________________________________________________\n",
      "hidden_layer2 (Dense)        (None, 256)               131328    \n",
      "_________________________________________________________________\n",
      "batch_normalization_2 (Batch (None, 256)               1024      \n",
      "_________________________________________________________________\n",
      "hidden_layer3 (Dense)        (None, 128)               32896     \n",
      "_________________________________________________________________\n",
      "batch_normalization_3 (Batch (None, 128)               512       \n",
      "_________________________________________________________________\n",
      "output (Dense)               (None, 10)                1290      \n",
      "=================================================================\n",
      "Total params: 1,742,474\n",
      "Trainable params: 1,740,682\n",
      "Non-trainable params: 1,792\n",
      "_________________________________________________________________\n",
      "Train on 50000 samples, validate on 10000 samples\n",
      "Epoch 1/15\n",
      "50000/50000 [==============================] - 13s 258us/step - loss: 2.1894 - acc: 0.2732 - val_loss: 2.0665 - val_acc: 0.3322\n",
      "Epoch 2/15\n",
      "50000/50000 [==============================] - 12s 240us/step - loss: 1.7316 - acc: 0.3971 - val_loss: 1.7818 - val_acc: 0.3885\n",
      "Epoch 3/15\n",
      "50000/50000 [==============================] - 12s 240us/step - loss: 1.6077 - acc: 0.4360 - val_loss: 1.6904 - val_acc: 0.4169\n",
      "Epoch 4/15\n",
      "50000/50000 [==============================] - 12s 235us/step - loss: 1.5342 - acc: 0.4609 - val_loss: 1.6230 - val_acc: 0.4320\n",
      "Epoch 5/15\n",
      "50000/50000 [==============================] - 12s 239us/step - loss: 1.4786 - acc: 0.4814 - val_loss: 1.5864 - val_acc: 0.4434\n",
      "Epoch 6/15\n",
      "50000/50000 [==============================] - 11s 228us/step - loss: 1.4340 - acc: 0.4977 - val_loss: 1.5624 - val_acc: 0.4498\n",
      "Epoch 7/15\n",
      "50000/50000 [==============================] - 11s 226us/step - loss: 1.3944 - acc: 0.5120 - val_loss: 1.5408 - val_acc: 0.4587\n",
      "Epoch 8/15\n",
      "50000/50000 [==============================] - 11s 224us/step - loss: 1.3594 - acc: 0.5253 - val_loss: 1.5410 - val_acc: 0.4516\n",
      "Epoch 9/15\n",
      "50000/50000 [==============================] - 12s 230us/step - loss: 1.3278 - acc: 0.5370 - val_loss: 1.5139 - val_acc: 0.4648\n",
      "Epoch 10/15\n",
      "50000/50000 [==============================] - 12s 237us/step - loss: 1.2995 - acc: 0.5464 - val_loss: 1.5095 - val_acc: 0.4677\n",
      "Epoch 11/15\n",
      "50000/50000 [==============================] - 12s 242us/step - loss: 1.2693 - acc: 0.5579 - val_loss: 1.4926 - val_acc: 0.4768\n",
      "Epoch 12/15\n",
      "50000/50000 [==============================] - 12s 241us/step - loss: 1.2421 - acc: 0.5687 - val_loss: 1.4915 - val_acc: 0.4713\n",
      "Epoch 13/15\n",
      "50000/50000 [==============================] - 12s 250us/step - loss: 1.2171 - acc: 0.5772 - val_loss: 1.4773 - val_acc: 0.4801\n",
      "Epoch 14/15\n",
      "50000/50000 [==============================] - 11s 229us/step - loss: 1.1940 - acc: 0.5849 - val_loss: 1.4720 - val_acc: 0.4772\n",
      "Epoch 15/15\n",
      "50000/50000 [==============================] - 12s 235us/step - loss: 1.1707 - acc: 0.5969 - val_loss: 1.4718 - val_acc: 0.4852\n",
      "10000/10000 [==============================] - 2s 247us/step\n"
     ]
    }
   ],
   "source": [
    "# \"\"\"\n",
    "# Write your training loop and show the results\n",
    "# \"\"\"\n",
    "model = build_mlp(input_shape=x_train.shape[1:])\n",
    "model.summary()\n",
    "optimizer = keras.optimizers.SGD(lr=LEARNING_RATE, nesterov=True, momentum=MOMENTUM)\n",
    "model.compile(loss=\"categorical_crossentropy\", metrics=[\"accuracy\"], optimizer=optimizer)\n",
    "\n",
    "model.fit(x_train, y_train, \n",
    "          epochs=EPOCHS, \n",
    "          batch_size=BATCH_SIZE, \n",
    "          validation_data=(x_test, y_test), \n",
    "          shuffle=True,\n",
    "          callbacks=[model_ckpt]\n",
    "         )\n",
    "\n",
    "# Collect results\n",
    "train_loss = model.history.history[\"loss\"]\n",
    "valid_loss = model.history.history[\"val_loss\"]\n",
    "train_acc = model.history.history[\"acc\"]\n",
    "valid_acc = model.history.history[\"val_acc\"]\n",
    "\n",
    "# Load back\n",
    "model = keras.models.load_model(\"./tmp_true.h5\")\n",
    "loss_loadback, acc_loadback = model.evaluate(x_test, y_test)"
   ]
  },
  {
   "cell_type": "code",
   "execution_count": 9,
   "metadata": {},
   "outputs": [
    {
     "data": {
      "image/png": "[encoded data removed]",
      "text/plain": [
       "<matplotlib.figure.Figure at 0x1dd024c7048>"
      ]
     },
     "metadata": {},
     "output_type": "display_data"
    },
    {
     "data": {
      "image/png": "[encoded data removed]",
      "text/plain": [
       "<matplotlib.figure.Figure at 0x1dd07a04c88>"
      ]
     },
     "metadata": {},
     "output_type": "display_data"
    }
   ],
   "source": [
    "import matplotlib.pyplot as plt\n",
    "%matplotlib inline\n",
    "\n",
    "plt.plot(range(len(train_loss)), train_loss, label=\"train loss\")\n",
    "plt.plot(range(len(valid_loss)), valid_loss, label=\"valid loss\")\n",
    "plt.hlines(y=loss_loadback, xmin=0, xmax=len(train_loss), colors='r', linestyles='--')\n",
    "plt.legend()\n",
    "plt.title(\"Loss\")\n",
    "plt.show()\n",
    "\n",
    "plt.plot(range(len(train_acc)), train_acc, label=\"train accuracy\")\n",
    "plt.plot(range(len(valid_acc)), valid_acc, label=\"valid accuracy\")\n",
    "plt.hlines(y=acc_loadback, xmin=0, xmax=len(train_loss), colors='r', linestyles='--')\n",
    "plt.legend()\n",
    "plt.title(\"Accuracy\")\n",
    "plt.show()"
   ]
  },
  {
   "cell_type": "code",
   "execution_count": null,
   "metadata": {},
   "outputs": [],
   "source": []
  },
  {
   "cell_type": "code",
   "execution_count": 10,
   "metadata": {},
   "outputs": [],
   "source": [
    "model_ckpt = ModelCheckpoint(filepath=\"./tmp_false.h5\", \n",
    "                             monitor=\"val_loss\", \n",
    "                             save_best_only=False)"
   ]
  },
  {
   "cell_type": "code",
   "execution_count": 11,
   "metadata": {},
   "outputs": [
    {
     "name": "stdout",
     "output_type": "stream",
     "text": [
      "_________________________________________________________________\n",
      "Layer (type)                 Output Shape              Param #   \n",
      "=================================================================\n",
      "input_2 (InputLayer)         (None, 3072)              0         \n",
      "_________________________________________________________________\n",
      "hidden_layer1 (Dense)        (None, 512)               1573376   \n",
      "_________________________________________________________________\n",
      "batch_normalization_4 (Batch (None, 512)               2048      \n",
      "_________________________________________________________________\n",
      "hidden_layer2 (Dense)        (None, 256)               131328    \n",
      "_________________________________________________________________\n",
      "batch_normalization_5 (Batch (None, 256)               1024      \n",
      "_________________________________________________________________\n",
      "hidden_layer3 (Dense)        (None, 128)               32896     \n",
      "_________________________________________________________________\n",
      "batch_normalization_6 (Batch (None, 128)               512       \n",
      "_________________________________________________________________\n",
      "output (Dense)               (None, 10)                1290      \n",
      "=================================================================\n",
      "Total params: 1,742,474\n",
      "Trainable params: 1,740,682\n",
      "Non-trainable params: 1,792\n",
      "_________________________________________________________________\n",
      "Train on 50000 samples, validate on 10000 samples\n",
      "Epoch 1/15\n",
      "50000/50000 [==============================] - 14s 282us/step - loss: 2.2116 - acc: 0.2744 - val_loss: 2.1045 - val_acc: 0.3165\n",
      "Epoch 2/15\n",
      "50000/50000 [==============================] - 12s 250us/step - loss: 1.7346 - acc: 0.3960 - val_loss: 1.8268 - val_acc: 0.3779\n",
      "Epoch 3/15\n",
      "50000/50000 [==============================] - 12s 246us/step - loss: 1.6056 - acc: 0.4372 - val_loss: 1.6777 - val_acc: 0.4200\n",
      "Epoch 4/15\n",
      "50000/50000 [==============================] - 12s 241us/step - loss: 1.5313 - acc: 0.4638 - val_loss: 1.6244 - val_acc: 0.4362\n",
      "Epoch 5/15\n",
      "50000/50000 [==============================] - 12s 242us/step - loss: 1.4773 - acc: 0.4847 - val_loss: 1.5847 - val_acc: 0.4476\n",
      "Epoch 6/15\n",
      "50000/50000 [==============================] - 12s 235us/step - loss: 1.4324 - acc: 0.4996 - val_loss: 1.5642 - val_acc: 0.4513\n",
      "Epoch 7/15\n",
      "50000/50000 [==============================] - 12s 235us/step - loss: 1.3965 - acc: 0.5136 - val_loss: 1.5480 - val_acc: 0.45703966 - acc: 0.51\n",
      "Epoch 8/15\n",
      "50000/50000 [==============================] - 12s 237us/step - loss: 1.3593 - acc: 0.5254 - val_loss: 1.5193 - val_acc: 0.4652\n",
      "Epoch 9/15\n",
      "50000/50000 [==============================] - 11s 227us/step - loss: 1.3281 - acc: 0.5386 - val_loss: 1.5101 - val_acc: 0.4716\n",
      "Epoch 10/15\n",
      "50000/50000 [==============================] - 11s 226us/step - loss: 1.2987 - acc: 0.5474 - val_loss: 1.4957 - val_acc: 0.4790\n",
      "Epoch 11/15\n",
      "50000/50000 [==============================] - 11s 227us/step - loss: 1.2713 - acc: 0.5570 - val_loss: 1.4949 - val_acc: 0.4767\n",
      "Epoch 12/15\n",
      "50000/50000 [==============================] - 11s 223us/step - loss: 1.2455 - acc: 0.5692 - val_loss: 1.4739 - val_acc: 0.4865\n",
      "Epoch 13/15\n",
      "50000/50000 [==============================] - 11s 229us/step - loss: 1.2195 - acc: 0.5765 - val_loss: 1.4738 - val_acc: 0.4848\n",
      "Epoch 14/15\n",
      "50000/50000 [==============================] - 11s 228us/step - loss: 1.1954 - acc: 0.5868 - val_loss: 1.4614 - val_acc: 0.4913\n",
      "Epoch 15/15\n",
      "50000/50000 [==============================] - 11s 229us/step - loss: 1.1705 - acc: 0.5947 - val_loss: 1.4647 - val_acc: 0.4914\n",
      "10000/10000 [==============================] - 2s 240us/step\n"
     ]
    }
   ],
   "source": [
    "model = build_mlp(input_shape=x_train.shape[1:])\n",
    "model.summary()\n",
    "optimizer = keras.optimizers.SGD(lr=LEARNING_RATE, nesterov=True, momentum=MOMENTUM)\n",
    "model.compile(loss=\"categorical_crossentropy\", metrics=[\"accuracy\"], optimizer=optimizer)\n",
    "\n",
    "model.fit(x_train, y_train, \n",
    "          epochs=EPOCHS, \n",
    "          batch_size=BATCH_SIZE, \n",
    "          validation_data=(x_test, y_test), \n",
    "          shuffle=True,\n",
    "          callbacks=[model_ckpt]\n",
    "         )\n",
    "\n",
    "# Collect results\n",
    "train_loss = model.history.history[\"loss\"]\n",
    "valid_loss = model.history.history[\"val_loss\"]\n",
    "train_acc = model.history.history[\"acc\"]\n",
    "valid_acc = model.history.history[\"val_acc\"]\n",
    "\n",
    "# Load back\n",
    "model = keras.models.load_model(\"./tmp_false.h5\")\n",
    "loss_loadback, acc_loadback = model.evaluate(x_test, y_test)"
   ]
  },
  {
   "cell_type": "code",
   "execution_count": 12,
   "metadata": {},
   "outputs": [
    {
     "data": {
      "image/png": "[encoded data removed]",
      "text/plain": [
       "<matplotlib.figure.Figure at 0x1dd07a99b70>"
      ]
     },
     "metadata": {},
     "output_type": "display_data"
    },
    {
     "data": {
      "image/png": "[encoded data removed]",
      "text/plain": [
       "<matplotlib.figure.Figure at 0x1dd08e38940>"
      ]
     },
     "metadata": {},
     "output_type": "display_data"
    }
   ],
   "source": [
    "import matplotlib.pyplot as plt\n",
    "%matplotlib inline\n",
    "\n",
    "plt.plot(range(len(train_loss)), train_loss, label=\"train loss\")\n",
    "plt.plot(range(len(valid_loss)), valid_loss, label=\"valid loss\")\n",
    "plt.hlines(y=loss_loadback, xmin=0, xmax=len(train_loss), colors='r', linestyles='--')\n",
    "plt.legend()\n",
    "plt.title(\"Loss\")\n",
    "plt.show()\n",
    "\n",
    "plt.plot(range(len(train_acc)), train_acc, label=\"train accuracy\")\n",
    "plt.plot(range(len(valid_acc)), valid_acc, label=\"valid accuracy\")\n",
    "plt.hlines(y=acc_loadback, xmin=0, xmax=len(train_loss), colors='r', linestyles='--')\n",
    "plt.legend()\n",
    "plt.title(\"Accuracy\")\n",
    "plt.show()"
   ]
  }
 ],
 "metadata": {
  "anaconda-cloud": {},
  "kernelspec": {
   "display_name": "Python 3",
   "language": "python",
   "name": "python3"
  },
  "language_info": {
   "codemirror_mode": {
    "name": "ipython",
    "version": 3
   },
   "file_extension": ".py",
   "mimetype": "text/x-python",
   "name": "python",
   "nbconvert_exporter": "python",
   "pygments_lexer": "ipython3",
   "version": "3.6.4"
  }
 },
 "nbformat": 4,
 "nbformat_minor": 2
}
